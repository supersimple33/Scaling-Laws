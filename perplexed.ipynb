{
 "cells": [
  {
   "cell_type": "markdown",
   "metadata": {},
   "source": [
    "# Simple Perplexity Calculations\n",
    "\n",
    "Given a specific dataset please calculate the perplexity of a number of different models"
   ]
  },
  {
   "cell_type": "code",
   "execution_count": 1,
   "metadata": {},
   "outputs": [
    {
     "name": "stderr",
     "output_type": "stream",
     "text": [
      "/Users/addisonhanrattie/Documents/Scaling-Laws/.conda/lib/python3.11/site-packages/tqdm/auto.py:21: TqdmWarning: IProgress not found. Please update jupyter and ipywidgets. See https://ipywidgets.readthedocs.io/en/stable/user_install.html\n",
      "  from .autonotebook import tqdm as notebook_tqdm\n"
     ]
    }
   ],
   "source": [
    "import evaluate\n",
    "import random\n",
    "from datasets import load_dataset"
   ]
  },
  {
   "cell_type": "markdown",
   "metadata": {},
   "source": [
    "## Create the dataset"
   ]
  },
  {
   "cell_type": "code",
   "execution_count": 2,
   "metadata": {},
   "outputs": [
    {
     "name": "stderr",
     "output_type": "stream",
     "text": [
      "Found cached dataset imdb (/Users/addisonhanrattie/.cache/huggingface/datasets/imdb/plain_text/1.0.0/d613c88cf8fa3bab83b4ded3713f1f74830d1100e171db75bbddb80b3345c9c0)\n",
      "Loading cached shuffled indices for dataset at /Users/addisonhanrattie/.cache/huggingface/datasets/imdb/plain_text/1.0.0/d613c88cf8fa3bab83b4ded3713f1f74830d1100e171db75bbddb80b3345c9c0/cache-c1eaa46e94dfbfd3.arrow\n"
     ]
    },
    {
     "data": {
      "text/plain": [
       "\"<br /><br />When I unsuspectedly rented A Thousand Acres, I thought I was in for an entertaining King Lear story and of course Michelle Pfeiffer was in it, so what could go wrong?<br /><br />Very quickly, however, I realized that this story was about A Thousand Other Things besides just Acres. I started crying and couldn't stop until long after the movie ended. Thank you Jane, Laura and Jocelyn, for bringing us such a wonderfully subtle and compassionate movie! Thank you cast, for being involved and portraying the characters with such depth and gentleness!<br /><br />I recognized the Angry sister; the Runaway sister and the sister in Denial. I recognized the Abusive Husband and why he was there and then the Father, oh oh the Father... all superbly played. I also recognized myself and this movie was an eye-opener, a relief, a chance to face my OWN truth and finally doing something about it. I truly hope A Thousand Acres has had the same effect on some others out there.<br /><br />Since I didn't understand why the cover said the film was about sisters fighting over land -they weren't fighting each other at all- I watched it a second time. Then I was able to see that if one hadn't lived a similar story, one would easily miss the overwhelming undercurrent of dread and fear and the deep bond between the sisters that runs through it all. That is exactly the reason why people in general often overlook the truth about their neighbors for instance.<br /><br />But yet another reason why this movie is so perfect!<br /><br />I don't give a rat's ass (pardon my French) about to what extend the King Lear story is followed. All I know is that I can honestly say: this movie has changed my life.<br /><br />Keep up the good work guys, you CAN and DO make a difference.<br /><br />\""
      ]
     },
     "execution_count": 2,
     "metadata": {},
     "output_type": "execute_result"
    }
   ],
   "source": [
    "dataset : list[str] = load_dataset(\"imdb\", split=\"test\").shuffle(seed=42).select(range(1))[\"text\"] # (seed=42)\n",
    "\n",
    "dataset[0]"
   ]
  },
  {
   "cell_type": "markdown",
   "metadata": {},
   "source": [
    "## Generate a list of models we will use"
   ]
  },
  {
   "cell_type": "code",
   "execution_count": 37,
   "metadata": {},
   "outputs": [
    {
     "data": {
      "text/plain": [
       "6"
      ]
     },
     "execution_count": 37,
     "metadata": {},
     "output_type": "execute_result"
    }
   ],
   "source": [
    "# models = [\"cerebras/Cerebras-GPT-111M\", \"cerebras/Cerebras-GPT-256M\", \"cerebras/Cerebras-GPT-590M\", \"EleutherAI/pythia-70m\", \"EleutherAI/pythia-160m\", \"EleutherAI/pythia-410m\", \"EleutherAI/gpt-neo-125m\"]\n",
    "models = [ # Jagged comments represent models that are too large to fit on my computer\n",
    "    \"cerebras/Cerebras-GPT-111M\", \"cerebras/Cerebras-GPT-256M\", \"cerebras/Cerebras-GPT-590M\", \"cerebras/Cerebras-GPT-1.3B\", \"cerebras/Cerebras-GPT-2.7B\", \"cerebras/Cerebras-GPT-6.7B\", # \"cerebras/Cerebras-GPT-13.7B\",\n",
    "    \"EleutherAI/gpt-neo-125m\", \"EleutherAI/gpt-neo-1.3B\", \"EleutherAI/gpt-neo-2.7B\", \"EleutherAI/gpt-j-6b\", # \"EleutherAI/gpt-neox-20b\",\n",
    "    \"EleutherAI/pythia-70m\", \"EleutherAI/pythia-160m\", \"EleutherAI/pythia-410m\", # \"EleutherAI/pythia-1b\", \"EleutherAI/pythia-1.4b\", \"EleutherAI/pythia-2.8b\", \"EleutherAI/pythia-6.9b\", # \"EleutherAI/pythia-12b\",\n",
    "    \"EleutherAI/pythia-70m-deduped\", \"EleutherAI/pythia-160m-deduped\", \"EleutherAI/pythia-410m-deduped\", \"EleutherAI/pythia-1b-deduped\", \"EleutherAI/pythia-1.4b-deduped\", \"EleutherAI/pythia-2.8b-deduped\", \"EleutherAI/pythia-6.9b-deduped\", # \"EleutherAI/pythia-12b-deduped\",\n",
    "    \"mosaicml/mpt-7b\", # \"mosaicml/mpt-30b\",\n",
    "    \"tiiuae/falcon-7b\", # \"tiiuae/falcon-40b\", \"tiiuae/falcon-180b\"\n",
    "    ]\n",
    "\n",
    "len(models)"
   ]
  },
  {
   "cell_type": "markdown",
   "metadata": {},
   "source": [
    "## Run the test"
   ]
  },
  {
   "cell_type": "code",
   "execution_count": 38,
   "metadata": {},
   "outputs": [],
   "source": [
    "perplexity = evaluate.load(\"perplexity\", module_type=\"metric\")"
   ]
  },
  {
   "cell_type": "code",
   "execution_count": 39,
   "metadata": {},
   "outputs": [
    {
     "name": "stdout",
     "output_type": "stream",
     "text": [
      "cerebras/Cerebras-GPT-111M\n"
     ]
    },
    {
     "name": "stderr",
     "output_type": "stream",
     "text": [
      "Downloading pytorch_model.bin:  14%|█▍        | 1.49G/10.7G [24:07<2:29:51, 1.03MB/s]\n",
      "Downloading pytorch_model.bin:   4%|▍         | 482M/10.7G [18:45<6:38:54, 429kB/s]\n",
      "Downloading pytorch_model.bin:  16%|█▌        | 1.73G/10.7G [16:56<1:28:14, 1.70MB/s]\n",
      "Downloading pytorch_model.bin:   1%|          | 62.9M/10.7G [13:21<37:48:30, 78.4kB/s]\n",
      "Downloading pytorch_model.bin:   2%|▏         | 189M/10.7G [13:12<12:18:00, 238kB/s]\n",
      "Downloading model.safetensors:  34%|███▎      | 1.78G/5.31G [11:42<23:12, 2.54MB/s]\n",
      "Downloading model.safetensors:   8%|▊         | 398M/5.31G [08:15<1:41:48, 805kB/s]\n",
      "Downloading model.safetensors:  36%|███▌      | 755M/2.09G [06:57<12:19, 1.81MB/s]\n",
      "Downloading model.safetensors:  79%|███████▉  | 724M/911M [04:30<01:10, 2.68MB/s]\n",
      "Downloading model.safetensors:  83%|████████▎ | 755M/911M [03:06<00:38, 4.04MB/s]\n",
      "Using pad_token, but it is not set yet.\n",
      "100%|██████████| 1/1 [00:00<00:00,  2.59it/s]\n"
     ]
    },
    {
     "name": "stdout",
     "output_type": "stream",
     "text": [
      "cerebras/Cerebras-GPT-256M\n"
     ]
    },
    {
     "name": "stderr",
     "output_type": "stream",
     "text": [
      "Using pad_token, but it is not set yet.\n",
      "100%|██████████| 1/1 [00:00<00:00,  1.62it/s]\n"
     ]
    },
    {
     "name": "stdout",
     "output_type": "stream",
     "text": [
      "cerebras/Cerebras-GPT-590M\n"
     ]
    },
    {
     "name": "stderr",
     "output_type": "stream",
     "text": [
      "Using pad_token, but it is not set yet.\n",
      "100%|██████████| 1/1 [00:01<00:00,  1.09s/it]\n"
     ]
    },
    {
     "name": "stdout",
     "output_type": "stream",
     "text": [
      "cerebras/Cerebras-GPT-1.3B\n"
     ]
    },
    {
     "name": "stderr",
     "output_type": "stream",
     "text": [
      "Using pad_token, but it is not set yet.\n",
      "100%|██████████| 1/1 [00:02<00:00,  2.47s/it]\n"
     ]
    },
    {
     "name": "stdout",
     "output_type": "stream",
     "text": [
      "cerebras/Cerebras-GPT-2.7B\n"
     ]
    },
    {
     "name": "stderr",
     "output_type": "stream",
     "text": [
      "Downloading pytorch_model.bin:  41%|████▏     | 4.45G/10.7G [16:17<1:19:22, 1.32MB/s]"
     ]
    }
   ],
   "source": [
    "perplexities = []\n",
    "for model in models: # CPU 40.0 vs GPU 30.8\n",
    "\tprint(model)\n",
    "\tresult = perplexity.compute(predictions=dataset, model_id=model, add_start_token=False, device=\"cpu\") #device = CPU\n",
    "\tperplexities.append(result[\"mean_perplexity\"])\n",
    "\n",
    "results = dict(zip(models, perplexities))\n",
    "results"
   ]
  },
  {
   "cell_type": "code",
   "execution_count": null,
   "metadata": {},
   "outputs": [],
   "source": [
    "import torch\n",
    "torch.backends.mps.is_available()"
   ]
  }
 ],
 "metadata": {
  "kernelspec": {
   "display_name": "Python 3",
   "language": "python",
   "name": "python3"
  },
  "language_info": {
   "codemirror_mode": {
    "name": "ipython",
    "version": 3
   },
   "file_extension": ".py",
   "mimetype": "text/x-python",
   "name": "python",
   "nbconvert_exporter": "python",
   "pygments_lexer": "ipython3",
   "version": "3.11.5"
  }
 },
 "nbformat": 4,
 "nbformat_minor": 2
}
